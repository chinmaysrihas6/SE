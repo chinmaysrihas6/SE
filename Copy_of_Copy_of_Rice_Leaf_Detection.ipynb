{
  "cells": [
    {
      "cell_type": "markdown",
      "metadata": {
        "id": "view-in-github",
        "colab_type": "text"
      },
      "source": [
        "<a href=\"https://colab.research.google.com/github/chinmaysrihas6/SE/blob/main/Copy_of_Copy_of_Rice_Leaf_Detection.ipynb\" target=\"_parent\"><img src=\"https://colab.research.google.com/assets/colab-badge.svg\" alt=\"Open In Colab\"/></a>"
      ]
    },
    {
      "cell_type": "markdown",
      "metadata": {
        "id": "68KM1BqVaL-K"
      },
      "source": [
        "# Rice Leaf Disease Detection\n",
        "\n",
        "By [Debashish Das](https://facebook.com/avey.onion) & [Sajib Hossain](https://facebook.com/avey.onion)\n",
        "\n",
        "For this project,  we are going to detect rice leaf disease by image and serve the result via messenger chatbot. We will also implement this to an independent Android APP.\n",
        "\n",
        "\n",
        "---\n",
        "\n",
        "\n",
        "### We have deviced the project into multiple steps\n",
        "\n",
        "\n",
        "*   Importing Libraries\n",
        "*   Loading Data\n",
        "*   Preparing Dataset\n",
        "*   Label Mapping using Json\n",
        "*   Data Preproocessing\n",
        "*   Model Building\n",
        "*   Trining\n",
        "*   Check\n",
        "\n",
        "\n",
        "\n",
        "\n",
        "\n",
        "\n"
      ]
    },
    {
      "cell_type": "code",
      "execution_count": null,
      "metadata": {
        "colab": {
          "base_uri": "https://localhost:8080/"
        },
        "id": "aXk70l5hmMM_",
        "outputId": "221e5e65-9265-485c-d544-b388f8c15820"
      },
      "outputs": [
        {
          "output_type": "stream",
          "name": "stdout",
          "text": [
            "Mounted at /content/drive/\n"
          ]
        }
      ],
      "source": [
        "from  google.colab import drive\n",
        "drive.mount(\"/content/drive/\")"
      ]
    },
    {
      "cell_type": "markdown",
      "metadata": {
        "id": "jm459EZSk4zS"
      },
      "source": [
        "### **Importing  the Librairies**"
      ]
    },
    {
      "cell_type": "code",
      "execution_count": null,
      "metadata": {
        "colab": {
          "base_uri": "https://localhost:8080/"
        },
        "id": "B9XR2lRUPtQG",
        "outputId": "9b35a77e-4943-40a8-80fa-78e41e6840df"
      },
      "outputs": [
        {
          "output_type": "stream",
          "name": "stdout",
          "text": [
            "\u001b[31mERROR: Could not find a version that satisfies the requirement tf-nightly-gpu-2.0-preview (from versions: none)\u001b[0m\u001b[31m\n",
            "\u001b[0m\u001b[31mERROR: No matching distribution found for tf-nightly-gpu-2.0-preview\u001b[0m\u001b[31m\n",
            "\u001b[0mCollecting tf-hub-nightly\n",
            "  Downloading tf_hub_nightly-0.15.0.dev202309140307-py2.py3-none-any.whl (90 kB)\n",
            "\u001b[2K     \u001b[90m━━━━━━━━━━━━━━━━━━━━━━━━━━━━━━━━━━━━━━━━\u001b[0m \u001b[32m90.0/90.0 kB\u001b[0m \u001b[31m2.5 MB/s\u001b[0m eta \u001b[36m0:00:00\u001b[0m\n",
            "\u001b[?25hRequirement already satisfied: numpy>=1.12.0 in /usr/local/lib/python3.10/dist-packages (from tf-hub-nightly) (1.23.5)\n",
            "Requirement already satisfied: protobuf>=3.19.6 in /usr/local/lib/python3.10/dist-packages (from tf-hub-nightly) (3.20.3)\n",
            "Installing collected packages: tf-hub-nightly\n",
            "Successfully installed tf-hub-nightly-0.15.0.dev202309140307\n",
            "\u001b[31mERROR: Could not find a version that satisfies the requirement tensorflow==2.0.0-alpha (from versions: 2.8.0rc0, 2.8.0rc1, 2.8.0, 2.8.1, 2.8.2, 2.8.3, 2.8.4, 2.9.0rc0, 2.9.0rc1, 2.9.0rc2, 2.9.0, 2.9.1, 2.9.2, 2.9.3, 2.10.0rc0, 2.10.0rc1, 2.10.0rc2, 2.10.0rc3, 2.10.0, 2.10.1, 2.11.0rc0, 2.11.0rc1, 2.11.0rc2, 2.11.0, 2.11.1, 2.12.0rc0, 2.12.0rc1, 2.12.0, 2.12.1, 2.13.0rc0, 2.13.0rc1, 2.13.0rc2, 2.13.0, 2.14.0rc0, 2.14.0rc1)\u001b[0m\u001b[31m\n",
            "\u001b[0m\u001b[31mERROR: No matching distribution found for tensorflow==2.0.0-alpha\u001b[0m\u001b[31m\n",
            "\u001b[0mCollecting tensorflow-hub==0.5\n",
            "  Downloading tensorflow_hub-0.5.0-py2.py3-none-any.whl (78 kB)\n",
            "\u001b[2K     \u001b[90m━━━━━━━━━━━━━━━━━━━━━━━━━━━━━━━━━━━━━━━━\u001b[0m \u001b[32m78.0/78.0 kB\u001b[0m \u001b[31m1.9 MB/s\u001b[0m eta \u001b[36m0:00:00\u001b[0m\n",
            "\u001b[?25hRequirement already satisfied: numpy>=1.12.0 in /usr/local/lib/python3.10/dist-packages (from tensorflow-hub==0.5) (1.23.5)\n",
            "Requirement already satisfied: six>=1.10.0 in /usr/local/lib/python3.10/dist-packages (from tensorflow-hub==0.5) (1.16.0)\n",
            "Requirement already satisfied: protobuf>=3.4.0 in /usr/local/lib/python3.10/dist-packages (from tensorflow-hub==0.5) (3.20.3)\n",
            "Installing collected packages: tensorflow-hub\n",
            "  Attempting uninstall: tensorflow-hub\n",
            "    Found existing installation: tensorflow-hub 0.14.0\n",
            "    Uninstalling tensorflow-hub-0.14.0:\n",
            "      Successfully uninstalled tensorflow-hub-0.14.0\n",
            "Successfully installed tensorflow-hub-0.5.0\n"
          ]
        }
      ],
      "source": [
        "# Install nightly package for some functionalities that aren't in alpha\n",
        "!pip install tf-nightly-gpu-2.0-preview\n",
        "!pip install tf-hub-nightly\n",
        "!pip install tensorflow==2.0.0-alpha\n",
        "\n",
        "# Install TF Hub for TF2\n",
        "!pip install 'tensorflow-hub == 0.5'\n"
      ]
    },
    {
      "cell_type": "code",
      "execution_count": null,
      "metadata": {
        "id": "f_hZVquWBx9b"
      },
      "outputs": [],
      "source": [
        "from __future__ import absolute_import, division, print_function, unicode_literals\n",
        "\n",
        "\n",
        "import tensorflow as tf\n",
        "#tf.logging.set_verbosity(tf.logging.ERROR)\n",
        "#tf.enable_eager_execution()\n",
        "\n",
        "import tensorflow_hub as hub\n",
        "import os\n",
        "from tensorflow.keras.layers import Dense, Flatten, Conv2D\n",
        "from tensorflow.keras import Model\n",
        "from tensorflow.keras.preprocessing.image import ImageDataGenerator\n",
        "from tensorflow.keras.optimizers import Adam\n",
        "from tensorflow.keras import layers\n",
        "#from keras import optimizers\n",
        "\n",
        "\n"
      ]
    },
    {
      "cell_type": "code",
      "execution_count": null,
      "metadata": {
        "colab": {
          "base_uri": "https://localhost:8080/"
        },
        "id": "eoKSWDje_6z0",
        "outputId": "c844849a-72b0-4f7f-894f-b2eddb32d0bd"
      },
      "outputs": [
        {
          "output_type": "stream",
          "name": "stderr",
          "text": [
            "WARNING:tensorflow:From <ipython-input-4-2a1459e67cca>:6: is_gpu_available (from tensorflow.python.framework.test_util) is deprecated and will be removed in a future version.\n",
            "Instructions for updating:\n",
            "Use `tf.config.list_physical_devices('GPU')` instead.\n"
          ]
        },
        {
          "output_type": "stream",
          "name": "stdout",
          "text": [
            "Version:  2.13.0\n",
            "Eager mode:  True\n",
            "Hub version:  0.5.0\n",
            "GPU is available\n"
          ]
        }
      ],
      "source": [
        "# verify TensorFlow version\n",
        "\n",
        "print(\"Version: \", tf.__version__)\n",
        "print(\"Eager mode: \", tf.executing_eagerly())\n",
        "print(\"Hub version: \", hub.__version__)\n",
        "print(\"GPU is\", \"available\" if tf.test.is_gpu_available() else \"NOT AVAILABLE\")\n"
      ]
    },
    {
      "cell_type": "markdown",
      "metadata": {
        "id": "l9qTqaSDaL-i"
      },
      "source": [
        "### Load the data\n",
        "\n",
        "\n"
      ]
    },
    {
      "cell_type": "code",
      "execution_count": null,
      "metadata": {
        "colab": {
          "base_uri": "https://localhost:8080/"
        },
        "id": "YG5Hzp83Ezb0",
        "outputId": "3a543761-092c-4399-fb65-bb67e3f6958c"
      },
      "outputs": [
        {
          "output_type": "stream",
          "name": "stdout",
          "text": [
            "/content/drive/MyDrive/rice plant/test\n",
            "/content/drive/MyDrive/rice plant/1.Rice_Dataset_Original\n",
            "/content/drive/MyDrive/rice plant/train\n",
            "/content/drive/MyDrive/rice plant/validation\n"
          ]
        }
      ],
      "source": [
        "import os\n",
        "\n",
        "folder_path = '/content/drive/MyDrive/rice plant'  # Update this to the correct path of your folder\n",
        "\n",
        "# Ensure the folder exists\n",
        "if os.path.exists(folder_path):\n",
        "    # Get a list of all files and directories within the folder\n",
        "    file_list = os.listdir(folder_path)\n",
        "\n",
        "    # Print the paths of the files within the folder\n",
        "    for file_name in file_list:\n",
        "        file_path = os.path.join(folder_path, file_name)\n",
        "        print(file_path)\n",
        "else:\n",
        "    print(\"The folder does not exist.\")\n"
      ]
    },
    {
      "cell_type": "markdown",
      "metadata": {
        "id": "d_woCG18jX47"
      },
      "source": []
    },
    {
      "cell_type": "markdown",
      "metadata": {
        "id": "HA69CPvROvk5"
      },
      "source": [
        "### Prepare training and validation  dataset\n"
      ]
    },
    {
      "cell_type": "code",
      "execution_count": null,
      "metadata": {
        "colab": {
          "base_uri": "https://localhost:8080/"
        },
        "id": "PhB3buj3OoKP",
        "outputId": "64bff8e5-40bd-4f80-9df5-96bed846f998"
      },
      "outputs": [
        {
          "output_type": "stream",
          "name": "stdout",
          "text": [
            "Data Directory: /content/drive/MyDrive/rice plant/1.Rice_Dataset_Original\n",
            "Train Directory: /content/drive/MyDrive/rice plant/1.Rice_Dataset_Original/train\n",
            "Validation Directory: /content/drive/MyDrive/rice plant/1.Rice_Dataset_Original/validation\n"
          ]
        }
      ],
      "source": [
        "import os\n",
        "\n",
        "data_dir = '/content/drive/MyDrive/rice plant/1.Rice_Dataset_Original'\n",
        "train_dir = os.path.join(data_dir, 'train')\n",
        "validation_dir = os.path.join(data_dir, 'validation')\n",
        "\n",
        "# Print the paths to verify\n",
        "print(\"Data Directory:\", data_dir)\n",
        "print(\"Train Directory:\", train_dir)\n",
        "print(\"Validation Directory:\", validation_dir)\n",
        "\n"
      ]
    },
    {
      "cell_type": "code",
      "execution_count": null,
      "metadata": {
        "colab": {
          "base_uri": "https://localhost:8080/"
        },
        "id": "bDUxGnMdkmE8",
        "outputId": "6586288e-6f26-404d-a79b-e698290d1323"
      },
      "outputs": [
        {
          "output_type": "stream",
          "name": "stdout",
          "text": [
            "/content/drive/MyDrive/rice plant/1.Rice_Dataset_Original : 4437 files\n"
          ]
        }
      ],
      "source": [
        "import os\n",
        "\n",
        "def count_files(dir_path, counter=0):\n",
        "    \"returns number of files in dir and subdirs\"\n",
        "    for pack in os.walk(dir_path):\n",
        "        for f in pack[2]:\n",
        "            counter += 1\n",
        "    return dir_path + \" : \" + str(counter) + \" files\"\n",
        "\n",
        "folder_path = '/content/drive/MyDrive/rice plant/1.Rice_Dataset_Original'  # Update this to the correct path of your folder\n",
        "\n",
        "# Ensure the folder exists\n",
        "if os.path.exists(folder_path):\n",
        "    print(count_files(folder_path))\n",
        "else:\n",
        "    print(\"The folder does not exist.\")\n"
      ]
    },
    {
      "cell_type": "code",
      "execution_count": null,
      "metadata": {
        "colab": {
          "base_uri": "https://localhost:8080/"
        },
        "id": "lwFeDj4ughkE",
        "outputId": "3b4ec8d2-de01-43aa-ef37-ceb8680f377a"
      },
      "outputs": [
        {
          "output_type": "stream",
          "name": "stdout",
          "text": [
            "Total files in the folder: 4437\n",
            "Total files for training: 7\n",
            "Total files for testing: 2\n"
          ]
        }
      ],
      "source": [
        "import os\n",
        "from sklearn.model_selection import train_test_split\n",
        "\n",
        "def count_files(dir_path, counter=0):\n",
        "    \"returns number of files in dir and subdirs\"\n",
        "    for pack in os.walk(dir_path):\n",
        "        for f in pack[2]:\n",
        "            counter += 1\n",
        "    return counter\n",
        "\n",
        "folder_path = '/content/drive/MyDrive/rice plant/1.Rice_Dataset_Original'  # Update this to the correct path of your folder\n",
        "\n",
        "# Ensure the folder exists\n",
        "if os.path.exists(folder_path):\n",
        "    total_files = count_files(folder_path)\n",
        "    print(\"Total files in the folder:\", total_files)\n",
        "\n",
        "    # Split the files into training and testing sets (80% for training, 20% for testing)\n",
        "    train_files, test_files = train_test_split(os.listdir(folder_path), test_size=0.2, random_state=42)\n",
        "\n",
        "    print(\"Total files for training:\", len(train_files))\n",
        "    print(\"Total files for testing:\", len(test_files))\n",
        "else:\n",
        "    print(\"The folder does not exist.\")\n"
      ]
    },
    {
      "cell_type": "markdown",
      "metadata": {
        "id": "sKbwKt0_aL_D"
      },
      "source": [
        "### Label mapping\n"
      ]
    },
    {
      "cell_type": "code",
      "execution_count": null,
      "metadata": {
        "colab": {
          "base_uri": "https://localhost:8080/"
        },
        "id": "3-G_4n8ZF91f",
        "outputId": "c77a387d-7c8c-4c68-8d8b-19eabb49c825"
      },
      "outputs": [
        {
          "name": "stdout",
          "output_type": "stream",
          "text": [
            "Archive:  master.zip\n",
            "e56f0a072757582b0c8e6db762a720860b8da342\n",
            "   creating: rice-leaf-diseases-detection-master/\n",
            "  inflating: rice-leaf-diseases-detection-master/README.md  \n",
            "  inflating: rice-leaf-diseases-detection-master/Rice_Leaf_Detection.ipynb  \n",
            "  inflating: rice-leaf-diseases-detection-master/Rice_Leaf_Detection_Colab.ipynb  \n",
            "  inflating: rice-leaf-diseases-detection-master/classes.json  \n",
            "  inflating: rice-leaf-diseases-detection-master/rice-leaf.zip  \n"
          ]
        }
      ],
      "source": [
        "!!wget https://github.com/AveyBD/rice-leaf-diseases-detection/archive/master.zip\n",
        "!unzip master.zip;"
      ]
    },
    {
      "cell_type": "code",
      "execution_count": null,
      "metadata": {
        "colab": {
          "base_uri": "https://localhost:8080/"
        },
        "id": "FCf_N7v3HBzB",
        "outputId": "77dc9b0d-6875-42d9-c966-f8f7c456f497"
      },
      "outputs": [
        {
          "output_type": "stream",
          "name": "stdout",
          "text": [
            "Classes: ['bacterial_leaf_blight', 'Hispa', 'Healthy', 'leaf_scald', 'leaf_blast', 'narrow_brown_spot', 'Brown_spot', 'Shath Blight', 'Tungro']\n"
          ]
        }
      ],
      "source": [
        "import os\n",
        "\n",
        "def get_classes(data_dir):\n",
        "    # Get a list of subdirectories (class names) in the data directory\n",
        "    class_names = [name for name in os.listdir(data_dir) if os.path.isdir(os.path.join(data_dir, name))]\n",
        "    return class_names\n",
        "\n",
        "data_dir = '/content/drive/MyDrive/rice plant/1.Rice_Dataset_Original'  # Update this to the correct path of your data directory\n",
        "\n",
        "# Ensure the data directory exists\n",
        "if os.path.exists(data_dir):\n",
        "    classes = get_classes(data_dir)\n",
        "    print(\"Classes:\", classes)\n",
        "else:\n",
        "    print(\"The data directory does not exist.\")\n"
      ]
    },
    {
      "cell_type": "code",
      "execution_count": null,
      "metadata": {
        "colab": {
          "base_uri": "https://localhost:8080/"
        },
        "id": "hzILXef8Um5v",
        "outputId": "aa5b7bae-e116-4ad5-fb73-4763edb165c2"
      },
      "outputs": [
        {
          "output_type": "stream",
          "name": "stdout",
          "text": [
            "Number of classes: 9\n"
          ]
        }
      ],
      "source": [
        "print('Number of classes:',len(classes))"
      ]
    },
    {
      "cell_type": "markdown",
      "metadata": {
        "id": "5VeSPT_J0otV"
      },
      "source": [
        "\n",
        "\n",
        "```\n",
        "# This is formatted as code\n",
        "```\n",
        "\n",
        "###Select the Hub/TF2 module to use"
      ]
    },
    {
      "cell_type": "code",
      "execution_count": null,
      "metadata": {
        "colab": {
          "base_uri": "https://localhost:8080/"
        },
        "id": "lyCAYjNT09ja",
        "outputId": "a87df052-eabd-4a59-b63a-8ab0d5002938"
      },
      "outputs": [
        {
          "output_type": "stream",
          "name": "stdout",
          "text": [
            "Using https://tfhub.dev/google/tf2-preview/inception_v3/feature_vector/2 with input size (299, 299) and output dimension 2048\n"
          ]
        }
      ],
      "source": [
        "module_selection = (\"inception_v3\", 299, 2048) #@param [\"(\\\"mobilenet_v2\\\", 224, 1280)\", \"(\\\"inception_v3\\\", 299, 2048)\"] {type:\"raw\", allow-input: true}\n",
        "handle_base, pixels, FV_SIZE = module_selection\n",
        "MODULE_HANDLE =\"https://tfhub.dev/google/tf2-preview/{}/feature_vector/2\".format(handle_base)\n",
        "IMAGE_SIZE = (pixels, pixels)\n",
        "print(\"Using {} with input size {} and output dimension {}\".format(\n",
        "  MODULE_HANDLE, IMAGE_SIZE, FV_SIZE))\n",
        "\n",
        "BATCH_SIZE = 64 #@param {type:\"integer\"}"
      ]
    },
    {
      "cell_type": "markdown",
      "metadata": {
        "id": "ypePvgaXw5Lm"
      },
      "source": [
        "### Data Preprocessing\n",
        "\n",
        "\n"
      ]
    },
    {
      "cell_type": "code",
      "execution_count": null,
      "metadata": {
        "colab": {
          "base_uri": "https://localhost:8080/"
        },
        "id": "tbPhO3o_oRMp",
        "outputId": "77bf0509-2180-4f9b-a973-441fa9906cce"
      },
      "outputs": [
        {
          "output_type": "stream",
          "name": "stdout",
          "text": [
            "The train directory exists.\n",
            "Number of files in the train directory: 9\n"
          ]
        }
      ],
      "source": [
        "import os\n",
        "\n",
        "train_dir = '/content/drive/MyDrive/rice plant/train'\n",
        "\n",
        "# Check if the directory exists\n",
        "if os.path.exists(train_dir):\n",
        "    print(\"The train directory exists.\")\n",
        "else:\n",
        "    print(\"The train directory does not exist.\")\n",
        "    print(\"Current working directory:\", os.getcwd())\n",
        "    print(\"Contents of the current directory:\", os.listdir())\n",
        "\n",
        "# Check if the directory contains any files\n",
        "if os.path.exists(train_dir):\n",
        "    print(\"Number of files in the train directory:\", len(os.listdir(train_dir)))\n"
      ]
    },
    {
      "cell_type": "code",
      "execution_count": null,
      "metadata": {
        "colab": {
          "base_uri": "https://localhost:8080/"
        },
        "id": "JRrsFKez6fFf",
        "outputId": "7e98add2-608f-47db-cd88-4c8b5939089a"
      },
      "outputs": [
        {
          "output_type": "stream",
          "name": "stdout",
          "text": [
            "Found 4437 images belonging to 9 classes.\n",
            "Found 4437 images belonging to 9 classes.\n",
            "Found 4437 images belonging to 9 classes.\n",
            "Epoch 1/50\n",
            "138/138 [==============================] - 5611s 41s/step - loss: 1.3015 - accuracy: 0.5117 - val_loss: 0.9338 - val_accuracy: 0.6630\n",
            "Epoch 2/50\n",
            "138/138 [==============================] - 250s 2s/step - loss: 0.8747 - accuracy: 0.6724 - val_loss: 0.8192 - val_accuracy: 0.6947\n",
            "Epoch 3/50\n",
            "138/138 [==============================] - 197s 1s/step - loss: 0.6789 - accuracy: 0.7507 - val_loss: 0.5937 - val_accuracy: 0.7815\n",
            "Epoch 4/50\n",
            "138/138 [==============================] - 201s 1s/step - loss: 0.5663 - accuracy: 0.7850 - val_loss: 0.5179 - val_accuracy: 0.8245\n",
            "Epoch 5/50\n",
            "138/138 [==============================] - 188s 1s/step - loss: 0.5330 - accuracy: 0.7991 - val_loss: 0.4976 - val_accuracy: 0.8077\n",
            "Epoch 6/50\n",
            "138/138 [==============================] - 250s 2s/step - loss: 0.4963 - accuracy: 0.8089 - val_loss: 0.4206 - val_accuracy: 0.8433\n",
            "Epoch 7/50\n",
            "138/138 [==============================] - 238s 2s/step - loss: 0.4890 - accuracy: 0.8166 - val_loss: 0.4329 - val_accuracy: 0.8460\n",
            "Epoch 8/50\n",
            "138/138 [==============================] - 233s 2s/step - loss: 0.4122 - accuracy: 0.8395 - val_loss: 0.4236 - val_accuracy: 0.8347\n",
            "Epoch 9/50\n",
            "138/138 [==============================] - 232s 2s/step - loss: 0.3737 - accuracy: 0.8581 - val_loss: 0.3000 - val_accuracy: 0.8841\n",
            "Epoch 10/50\n",
            "138/138 [==============================] - 238s 2s/step - loss: 0.5314 - accuracy: 0.7986 - val_loss: 0.4607 - val_accuracy: 0.8252\n",
            "Epoch 11/50\n",
            "138/138 [==============================] - 233s 2s/step - loss: 0.3762 - accuracy: 0.8547 - val_loss: 0.3423 - val_accuracy: 0.8637\n",
            "Epoch 12/50\n",
            "138/138 [==============================] - 183s 1s/step - loss: 0.3411 - accuracy: 0.8688 - val_loss: 0.3192 - val_accuracy: 0.8673\n",
            "Epoch 13/50\n",
            "138/138 [==============================] - 179s 1s/step - loss: 0.3032 - accuracy: 0.8783 - val_loss: 0.3556 - val_accuracy: 0.8700\n",
            "Epoch 14/50\n",
            "138/138 [==============================] - 238s 2s/step - loss: 0.3546 - accuracy: 0.8590 - val_loss: 0.3179 - val_accuracy: 0.8782\n",
            "Epoch 15/50\n",
            "138/138 [==============================] - 234s 2s/step - loss: 0.2901 - accuracy: 0.8888 - val_loss: 0.2610 - val_accuracy: 0.8958\n",
            "Epoch 16/50\n",
            "138/138 [==============================] - 234s 2s/step - loss: 0.2985 - accuracy: 0.8815 - val_loss: 0.2701 - val_accuracy: 0.9015\n",
            "Epoch 17/50\n",
            "138/138 [==============================] - 235s 2s/step - loss: 0.3021 - accuracy: 0.8831 - val_loss: 0.2754 - val_accuracy: 0.8972\n",
            "Epoch 18/50\n",
            "138/138 [==============================] - 239s 2s/step - loss: 0.2879 - accuracy: 0.8894 - val_loss: 0.2833 - val_accuracy: 0.8893\n",
            "Epoch 19/50\n",
            "138/138 [==============================] - 233s 2s/step - loss: 0.2740 - accuracy: 0.8976 - val_loss: 0.3007 - val_accuracy: 0.8784\n",
            "Epoch 20/50\n",
            "138/138 [==============================] - 183s 1s/step - loss: 0.2747 - accuracy: 0.8947 - val_loss: 0.2720 - val_accuracy: 0.8956\n",
            "Epoch 21/50\n",
            "138/138 [==============================] - 182s 1s/step - loss: 0.2845 - accuracy: 0.8865 - val_loss: 0.2619 - val_accuracy: 0.8940\n",
            "Epoch 22/50\n",
            "138/138 [==============================] - 238s 2s/step - loss: 0.2518 - accuracy: 0.9003 - val_loss: 0.2713 - val_accuracy: 0.8899\n",
            "Epoch 23/50\n",
            "138/138 [==============================] - 232s 2s/step - loss: 0.2558 - accuracy: 0.9003 - val_loss: 0.2683 - val_accuracy: 0.8965\n",
            "Epoch 24/50\n",
            "138/138 [==============================] - 183s 1s/step - loss: 0.2883 - accuracy: 0.8901 - val_loss: 0.2163 - val_accuracy: 0.9158\n",
            "Epoch 25/50\n",
            "138/138 [==============================] - 180s 1s/step - loss: 0.2309 - accuracy: 0.9049 - val_loss: 0.2090 - val_accuracy: 0.9176\n",
            "Epoch 26/50\n",
            "138/138 [==============================] - 182s 1s/step - loss: 0.2718 - accuracy: 0.8965 - val_loss: 0.2366 - val_accuracy: 0.9044\n",
            "Epoch 27/50\n",
            "138/138 [==============================] - 180s 1s/step - loss: 0.2382 - accuracy: 0.9062 - val_loss: 0.2321 - val_accuracy: 0.9062\n",
            "Epoch 28/50\n",
            "138/138 [==============================] - 182s 1s/step - loss: 0.2403 - accuracy: 0.9056 - val_loss: 0.1859 - val_accuracy: 0.9303\n",
            "Epoch 29/50\n",
            "138/138 [==============================] - 180s 1s/step - loss: 0.2117 - accuracy: 0.9153 - val_loss: 0.1838 - val_accuracy: 0.9296\n",
            "Epoch 30/50\n",
            "138/138 [==============================] - 184s 1s/step - loss: 0.2156 - accuracy: 0.9137 - val_loss: 0.3140 - val_accuracy: 0.8834\n",
            "Epoch 31/50\n",
            "138/138 [==============================] - 178s 1s/step - loss: 0.2381 - accuracy: 0.9078 - val_loss: 0.1975 - val_accuracy: 0.9178\n",
            "Epoch 32/50\n",
            "138/138 [==============================] - 233s 2s/step - loss: 0.2224 - accuracy: 0.9153 - val_loss: 0.2997 - val_accuracy: 0.8856\n",
            "Epoch 33/50\n",
            "138/138 [==============================] - 186s 1s/step - loss: 0.2615 - accuracy: 0.8976 - val_loss: 0.2641 - val_accuracy: 0.8997\n",
            "Epoch 34/50\n",
            "138/138 [==============================] - 191s 1s/step - loss: 0.2234 - accuracy: 0.9135 - val_loss: 0.1889 - val_accuracy: 0.9198\n",
            "Epoch 35/50\n",
            "138/138 [==============================] - 235s 2s/step - loss: 0.2068 - accuracy: 0.9187 - val_loss: 0.1926 - val_accuracy: 0.9248\n",
            "Epoch 36/50\n",
            "138/138 [==============================] - 188s 1s/step - loss: 0.1894 - accuracy: 0.9280 - val_loss: 0.1687 - val_accuracy: 0.9334\n",
            "Epoch 37/50\n",
            " 25/138 [====>.........................] - ETA: 1:17 - loss: 0.1607 - accuracy: 0.9392"
          ]
        }
      ],
      "source": [
        "import os\n",
        "import tensorflow as tf\n",
        "\n",
        "# Define data directories and other constants\n",
        "data_dir = '/content/drive/MyDrive/rice plant'\n",
        "train_dir = os.path.join(data_dir, 'train')\n",
        "validation_dir = os.path.join(data_dir, 'validation')\n",
        "test_dir = os.path.join(data_dir, 'test')\n",
        "IMAGE_SIZE = (150, 150)\n",
        "BATCH_SIZE = 32\n",
        "\n",
        "# Data Generators\n",
        "datagen = tf.keras.preprocessing.image.ImageDataGenerator(\n",
        "    rescale=1./255,\n",
        "    rotation_range=40,\n",
        "    horizontal_flip=True,\n",
        "    width_shift_range=0.2,\n",
        "    height_shift_range=0.2,\n",
        "    shear_range=0.2,\n",
        "    zoom_range=0.2,\n",
        "    fill_mode='nearest'\n",
        ")\n",
        "\n",
        "train_generator = datagen.flow_from_directory(\n",
        "    train_dir,\n",
        "    target_size=IMAGE_SIZE,\n",
        "    batch_size=BATCH_SIZE,\n",
        "    color_mode='rgb',\n",
        "    class_mode='categorical',\n",
        "    shuffle=True,\n",
        "    seed=42\n",
        ")\n",
        "\n",
        "validation_generator = datagen.flow_from_directory(\n",
        "    validation_dir,\n",
        "    target_size=IMAGE_SIZE,\n",
        "    batch_size=BATCH_SIZE,\n",
        "    color_mode='rgb',\n",
        "    class_mode='categorical',\n",
        "    shuffle=False,\n",
        "    seed=42\n",
        ")\n",
        "\n",
        "test_generator = datagen.flow_from_directory(\n",
        "    test_dir,\n",
        "    target_size=IMAGE_SIZE,\n",
        "    batch_size=BATCH_SIZE,\n",
        "    color_mode='rgb',\n",
        "    class_mode='categorical',\n",
        "    shuffle=False,\n",
        "    seed=42\n",
        ")\n",
        "\n",
        "# Build your neural network model\n",
        "model = tf.keras.Sequential([\n",
        "    tf.keras.layers.Conv2D(32, (3, 3), activation='relu', input_shape=(IMAGE_SIZE[0], IMAGE_SIZE[1], 3)),\n",
        "    tf.keras.layers.MaxPooling2D((2, 2)),\n",
        "    tf.keras.layers.Conv2D(64, (3, 3), activation='relu'),\n",
        "    tf.keras.layers.MaxPooling2D((2, 2)),\n",
        "    tf.keras.layers.Conv2D(128, (3, 3), activation='relu'),\n",
        "    tf.keras.layers.MaxPooling2D((2, 2)),\n",
        "    tf.keras.layers.Flatten(),\n",
        "    tf.keras.layers.Dense(128, activation='relu'),\n",
        "    tf.keras.layers.Dense(train_generator.num_classes, activation='softmax')  # Make sure the number of units here matches the number of classes\n",
        "])\n",
        "\n",
        "# Compile the model\n",
        "model.compile(optimizer='adam', loss='categorical_crossentropy', metrics=['accuracy'])\n",
        "\n",
        "# Train the model\n",
        "history = model.fit(\n",
        "    train_generator,\n",
        "    steps_per_epoch=train_generator.samples // BATCH_SIZE,\n",
        "    epochs=50,\n",
        "    validation_data=validation_generator,\n",
        "    validation_steps=validation_generator.samples // BATCH_SIZE\n",
        ")\n",
        "# Save the model to an .h5 file\n",
        "model.save('path_to_saved_model.h5')\n",
        "\n",
        "# Test the model\n",
        "test_loss, test_accuracy = model.evaluate(test_generator)\n",
        "print(\"Test Loss:\", test_loss)\n",
        "print(\"Test Accuracy:\", test_accuracy)\n"
      ]
    },
    {
      "cell_type": "code",
      "execution_count": null,
      "metadata": {
        "colab": {
          "base_uri": "https://localhost:8080/",
          "height": 245
        },
        "id": "qN8ahbd1TamB",
        "outputId": "d52c44a5-b3d0-4eb8-e4f5-18794293987a"
      },
      "outputs": [
        {
          "output_type": "error",
          "ename": "TypeError",
          "evalue": "ignored",
          "traceback": [
            "\u001b[0;31m---------------------------------------------------------------------------\u001b[0m",
            "\u001b[0;31mTypeError\u001b[0m                                 Traceback (most recent call last)",
            "\u001b[0;32m<ipython-input-14-30540103d516>\u001b[0m in \u001b[0;36m<cell line: 3>\u001b[0;34m()\u001b[0m\n\u001b[1;32m      1\u001b[0m \u001b[0;31m# Plot accuracy graph\u001b[0m\u001b[0;34m\u001b[0m\u001b[0;34m\u001b[0m\u001b[0m\n\u001b[1;32m      2\u001b[0m \u001b[0;32mimport\u001b[0m \u001b[0mmatplotlib\u001b[0m\u001b[0;34m.\u001b[0m\u001b[0mpyplot\u001b[0m \u001b[0;32mas\u001b[0m \u001b[0mplt\u001b[0m\u001b[0;34m\u001b[0m\u001b[0;34m\u001b[0m\u001b[0m\n\u001b[0;32m----> 3\u001b[0;31m \u001b[0mplt\u001b[0m\u001b[0;34m.\u001b[0m\u001b[0mplot\u001b[0m\u001b[0;34m(\u001b[0m\u001b[0mhistory\u001b[0m\u001b[0;34m[\u001b[0m\u001b[0;34m'accuracy'\u001b[0m\u001b[0;34m]\u001b[0m\u001b[0;34m,\u001b[0m \u001b[0mlabel\u001b[0m\u001b[0;34m=\u001b[0m\u001b[0;34m'Training Accuracy'\u001b[0m\u001b[0;34m)\u001b[0m\u001b[0;34m\u001b[0m\u001b[0;34m\u001b[0m\u001b[0m\n\u001b[0m\u001b[1;32m      4\u001b[0m \u001b[0mplt\u001b[0m\u001b[0;34m.\u001b[0m\u001b[0mplot\u001b[0m\u001b[0;34m(\u001b[0m\u001b[0mhistory\u001b[0m\u001b[0;34m[\u001b[0m\u001b[0;34m'val_accuracy'\u001b[0m\u001b[0;34m]\u001b[0m\u001b[0;34m,\u001b[0m \u001b[0mlabel\u001b[0m\u001b[0;34m=\u001b[0m\u001b[0;34m'Validation Accuracy'\u001b[0m\u001b[0;34m)\u001b[0m\u001b[0;34m\u001b[0m\u001b[0;34m\u001b[0m\u001b[0m\n\u001b[1;32m      5\u001b[0m \u001b[0mplt\u001b[0m\u001b[0;34m.\u001b[0m\u001b[0mxlabel\u001b[0m\u001b[0;34m(\u001b[0m\u001b[0;34m'Epoch'\u001b[0m\u001b[0;34m)\u001b[0m\u001b[0;34m\u001b[0m\u001b[0;34m\u001b[0m\u001b[0m\n",
            "\u001b[0;31mTypeError\u001b[0m: 'History' object is not subscriptable"
          ]
        }
      ],
      "source": [
        "# Plot accuracy graph\n",
        "import matplotlib.pyplot as plt\n",
        "plt.plot(history['accuracy'], label='Training Accuracy')\n",
        "plt.plot(history['val_accuracy'], label='Validation Accuracy')\n",
        "plt.xlabel('Epoch')\n",
        "plt.ylabel('Accuracy')\n",
        "plt.legend()\n",
        "plt.show()\n"
      ]
    },
    {
      "cell_type": "code",
      "execution_count": null,
      "metadata": {
        "colab": {
          "base_uri": "https://localhost:8080/",
          "height": 245
        },
        "id": "qrr373F3tSwP",
        "outputId": "4db1c34e-03bd-49e3-8ba1-482a3c5a15c4"
      },
      "outputs": [
        {
          "output_type": "error",
          "ename": "NameError",
          "evalue": "ignored",
          "traceback": [
            "\u001b[0;31m---------------------------------------------------------------------------\u001b[0m",
            "\u001b[0;31mNameError\u001b[0m                                 Traceback (most recent call last)",
            "\u001b[0;32m<ipython-input-1-4562a51c12ed>\u001b[0m in \u001b[0;36m<cell line: 2>\u001b[0;34m()\u001b[0m\n\u001b[1;32m      1\u001b[0m \u001b[0;31m# Confusion Matrix\u001b[0m\u001b[0;34m\u001b[0m\u001b[0;34m\u001b[0m\u001b[0m\n\u001b[0;32m----> 2\u001b[0;31m \u001b[0mtest_generator\u001b[0m\u001b[0;34m.\u001b[0m\u001b[0mreset\u001b[0m\u001b[0;34m(\u001b[0m\u001b[0;34m)\u001b[0m\u001b[0;34m\u001b[0m\u001b[0;34m\u001b[0m\u001b[0m\n\u001b[0m\u001b[1;32m      3\u001b[0m \u001b[0my_pred\u001b[0m \u001b[0;34m=\u001b[0m \u001b[0mmodel\u001b[0m\u001b[0;34m.\u001b[0m\u001b[0mpredict\u001b[0m\u001b[0;34m(\u001b[0m\u001b[0mtest_generator\u001b[0m\u001b[0;34m)\u001b[0m\u001b[0;34m\u001b[0m\u001b[0;34m\u001b[0m\u001b[0m\n\u001b[1;32m      4\u001b[0m \u001b[0my_true\u001b[0m \u001b[0;34m=\u001b[0m \u001b[0mtest_generator\u001b[0m\u001b[0;34m.\u001b[0m\u001b[0mclasses\u001b[0m\u001b[0;34m\u001b[0m\u001b[0;34m\u001b[0m\u001b[0m\n\u001b[1;32m      5\u001b[0m \u001b[0;34m\u001b[0m\u001b[0m\n",
            "\u001b[0;31mNameError\u001b[0m: name 'test_generator' is not defined"
          ]
        }
      ],
      "source": [
        "# Confusion Matrix\n",
        "test_generator.reset()\n",
        "y_pred = model.predict(test_generator)\n",
        "y_true = test_generator.classes\n",
        "\n",
        "cm = confusion_matrix(y_true, np.argmax(y_pred, axis=1))\n",
        "plt.figure(figsize=(8, 6))\n",
        "sns.heatmap(cm, annot=True, cmap='Blues', fmt='d', xticklabels=train_generator.class_indices, yticklabels=train_generator.class_indices)\n",
        "plt.xlabel('Predicted Labels')\n",
        "plt.ylabel('True Labels')\n",
        "plt.title('Confusion Matrix')\n",
        "plt.show()"
      ]
    },
    {
      "cell_type": "code",
      "execution_count": null,
      "metadata": {
        "colab": {
          "base_uri": "https://localhost:8080/",
          "height": 235
        },
        "id": "pcme5QfgsCyW",
        "outputId": "93cd8dd2-9bc8-44a2-9dcf-da8beda10201"
      },
      "outputs": [
        {
          "ename": "NameError",
          "evalue": "ignored",
          "output_type": "error",
          "traceback": [
            "\u001b[0;31m---------------------------------------------------------------------------\u001b[0m",
            "\u001b[0;31mNameError\u001b[0m                                 Traceback (most recent call last)",
            "\u001b[0;32m<ipython-input-20-ceea7f1c5537>\u001b[0m in \u001b[0;36m<cell line: 2>\u001b[0;34m()\u001b[0m\n\u001b[1;32m      1\u001b[0m \u001b[0;31m# Plot accuracy graph\u001b[0m\u001b[0;34m\u001b[0m\u001b[0;34m\u001b[0m\u001b[0m\n\u001b[0;32m----> 2\u001b[0;31m \u001b[0mplt\u001b[0m\u001b[0;34m.\u001b[0m\u001b[0mplot\u001b[0m\u001b[0;34m(\u001b[0m\u001b[0mhistory\u001b[0m\u001b[0;34m.\u001b[0m\u001b[0mhistory\u001b[0m\u001b[0;34m[\u001b[0m\u001b[0;34m'accuracy'\u001b[0m\u001b[0;34m]\u001b[0m\u001b[0;34m,\u001b[0m \u001b[0mlabel\u001b[0m\u001b[0;34m=\u001b[0m\u001b[0;34m'Training Accuracy'\u001b[0m\u001b[0;34m)\u001b[0m\u001b[0;34m\u001b[0m\u001b[0;34m\u001b[0m\u001b[0m\n\u001b[0m\u001b[1;32m      3\u001b[0m \u001b[0mplt\u001b[0m\u001b[0;34m.\u001b[0m\u001b[0mplot\u001b[0m\u001b[0;34m(\u001b[0m\u001b[0mhistory\u001b[0m\u001b[0;34m.\u001b[0m\u001b[0mhistory\u001b[0m\u001b[0;34m[\u001b[0m\u001b[0;34m'val_accuracy'\u001b[0m\u001b[0;34m]\u001b[0m\u001b[0;34m,\u001b[0m \u001b[0mlabel\u001b[0m\u001b[0;34m=\u001b[0m\u001b[0;34m'Validation Accuracy'\u001b[0m\u001b[0;34m)\u001b[0m\u001b[0;34m\u001b[0m\u001b[0;34m\u001b[0m\u001b[0m\n\u001b[1;32m      4\u001b[0m \u001b[0mplt\u001b[0m\u001b[0;34m.\u001b[0m\u001b[0mxlabel\u001b[0m\u001b[0;34m(\u001b[0m\u001b[0;34m'Epoch'\u001b[0m\u001b[0;34m)\u001b[0m\u001b[0;34m\u001b[0m\u001b[0;34m\u001b[0m\u001b[0m\n\u001b[1;32m      5\u001b[0m \u001b[0mplt\u001b[0m\u001b[0;34m.\u001b[0m\u001b[0mylabel\u001b[0m\u001b[0;34m(\u001b[0m\u001b[0;34m'Accuracy'\u001b[0m\u001b[0;34m)\u001b[0m\u001b[0;34m\u001b[0m\u001b[0;34m\u001b[0m\u001b[0m\n",
            "\u001b[0;31mNameError\u001b[0m: name 'plt' is not defined"
          ]
        }
      ],
      "source": [
        "# Plot accuracy graph\n",
        "plt.plot(history.history['accuracy'], label='Training Accuracy')\n",
        "plt.plot(history.history['val_accuracy'], label='Validation Accuracy')\n",
        "plt.xlabel('Epoch')\n",
        "plt.ylabel('Accuracy')\n",
        "plt.legend()\n",
        "plt.show()"
      ]
    },
    {
      "cell_type": "markdown",
      "metadata": {
        "id": "3Afm5Jn42E4T"
      },
      "source": [
        "###Build the model\n"
      ]
    },
    {
      "cell_type": "code",
      "execution_count": null,
      "metadata": {
        "colab": {
          "base_uri": "https://localhost:8080/",
          "height": 1000
        },
        "id": "ALVyqEnolCwK",
        "outputId": "4d567810-d02c-4836-ce9f-ed8daea8de9f"
      },
      "outputs": [
        {
          "ename": "TypeError",
          "evalue": "ignored",
          "output_type": "error",
          "traceback": [
            "\u001b[0;31m---------------------------------------------------------------------------\u001b[0m",
            "\u001b[0;31mTypeError\u001b[0m                                 Traceback (most recent call last)",
            "\u001b[0;32m<ipython-input-14-832b8707d4c3>\u001b[0m in \u001b[0;36m<cell line: 10>\u001b[0;34m()\u001b[0m\n\u001b[1;32m      8\u001b[0m \u001b[0;34m\u001b[0m\u001b[0m\n\u001b[1;32m      9\u001b[0m \u001b[0;31m# Create the feature_extractor using the KerasLayer\u001b[0m\u001b[0;34m\u001b[0m\u001b[0;34m\u001b[0m\u001b[0m\n\u001b[0;32m---> 10\u001b[0;31m feature_extractor = hub.KerasLayer(\n\u001b[0m\u001b[1;32m     11\u001b[0m     \u001b[0mMODULE_HANDLE\u001b[0m\u001b[0;34m,\u001b[0m\u001b[0;34m\u001b[0m\u001b[0;34m\u001b[0m\u001b[0m\n\u001b[1;32m     12\u001b[0m     \u001b[0minput_shape\u001b[0m\u001b[0;34m=\u001b[0m\u001b[0mIMAGE_SIZE\u001b[0m \u001b[0;34m+\u001b[0m \u001b[0;34m(\u001b[0m\u001b[0;36m3\u001b[0m\u001b[0;34m,\u001b[0m\u001b[0;34m)\u001b[0m\u001b[0;34m,\u001b[0m  \u001b[0;31m# 3 for RGB images, adjust as per your data\u001b[0m\u001b[0;34m\u001b[0m\u001b[0;34m\u001b[0m\u001b[0m\n",
            "\u001b[0;32m/usr/local/lib/python3.10/dist-packages/tensorflow_hub/keras_layer.py\u001b[0m in \u001b[0;36m__init__\u001b[0;34m(self, handle, trainable, arguments, **kwargs)\u001b[0m\n\u001b[1;32m    117\u001b[0m       \u001b[0;32mfor\u001b[0m \u001b[0mv\u001b[0m \u001b[0;32min\u001b[0m \u001b[0mself\u001b[0m\u001b[0;34m.\u001b[0m\u001b[0m_func\u001b[0m\u001b[0;34m.\u001b[0m\u001b[0mtrainable_variables\u001b[0m\u001b[0;34m:\u001b[0m\u001b[0;34m\u001b[0m\u001b[0;34m\u001b[0m\u001b[0m\n\u001b[1;32m    118\u001b[0m         \u001b[0mself\u001b[0m\u001b[0;34m.\u001b[0m\u001b[0m_add_existing_weight\u001b[0m\u001b[0;34m(\u001b[0m\u001b[0mv\u001b[0m\u001b[0;34m,\u001b[0m \u001b[0mtrainable\u001b[0m\u001b[0;34m=\u001b[0m\u001b[0;32mTrue\u001b[0m\u001b[0;34m)\u001b[0m\u001b[0;34m\u001b[0m\u001b[0;34m\u001b[0m\u001b[0m\n\u001b[0;32m--> 119\u001b[0;31m       \u001b[0mtrainable_variables\u001b[0m \u001b[0;34m=\u001b[0m \u001b[0mset\u001b[0m\u001b[0;34m(\u001b[0m\u001b[0mself\u001b[0m\u001b[0;34m.\u001b[0m\u001b[0m_func\u001b[0m\u001b[0;34m.\u001b[0m\u001b[0mtrainable_variables\u001b[0m\u001b[0;34m)\u001b[0m\u001b[0;34m\u001b[0m\u001b[0;34m\u001b[0m\u001b[0m\n\u001b[0m\u001b[1;32m    120\u001b[0m     \u001b[0;32melse\u001b[0m\u001b[0;34m:\u001b[0m\u001b[0;34m\u001b[0m\u001b[0;34m\u001b[0m\u001b[0m\n\u001b[1;32m    121\u001b[0m       \u001b[0mtrainable_variables\u001b[0m \u001b[0;34m=\u001b[0m \u001b[0mset\u001b[0m\u001b[0;34m(\u001b[0m\u001b[0;34m)\u001b[0m\u001b[0;34m\u001b[0m\u001b[0;34m\u001b[0m\u001b[0m\n",
            "\u001b[0;32m/usr/local/lib/python3.10/dist-packages/tensorflow/python/ops/variables.py\u001b[0m in \u001b[0;36m__hash__\u001b[0;34m(self)\u001b[0m\n\u001b[1;32m   1111\u001b[0m   \u001b[0;32mdef\u001b[0m \u001b[0m__hash__\u001b[0m\u001b[0;34m(\u001b[0m\u001b[0mself\u001b[0m\u001b[0;34m)\u001b[0m\u001b[0;34m:\u001b[0m\u001b[0;34m\u001b[0m\u001b[0;34m\u001b[0m\u001b[0m\n\u001b[1;32m   1112\u001b[0m     \u001b[0;32mif\u001b[0m \u001b[0mops\u001b[0m\u001b[0;34m.\u001b[0m\u001b[0mTensor\u001b[0m\u001b[0;34m.\u001b[0m\u001b[0m_USE_EQUALITY\u001b[0m \u001b[0;32mand\u001b[0m \u001b[0mops\u001b[0m\u001b[0;34m.\u001b[0m\u001b[0mexecuting_eagerly_outside_functions\u001b[0m\u001b[0;34m(\u001b[0m\u001b[0;34m)\u001b[0m\u001b[0;34m:\u001b[0m  \u001b[0;31m# pylint: disable=protected-access\u001b[0m\u001b[0;34m\u001b[0m\u001b[0;34m\u001b[0m\u001b[0m\n\u001b[0;32m-> 1113\u001b[0;31m       raise TypeError(\n\u001b[0m\u001b[1;32m   1114\u001b[0m           \u001b[0;34m\"Variable is unhashable. \"\u001b[0m\u001b[0;34m\u001b[0m\u001b[0;34m\u001b[0m\u001b[0m\n\u001b[1;32m   1115\u001b[0m           f\"Instead, use variable.ref() as the key. (Variable: {self})\")\n",
            "\u001b[0;31mTypeError\u001b[0m: Variable is unhashable. Instead, use variable.ref() as the key. (Variable: <tf.Variable 'MobilenetV2/expanded_conv/depthwise/depthwise_weights:0' shape=(3, 3, 40, 1) dtype=float32, numpy=\narray([[[[ 1.48876280e-01],\n         [-1.57056585e-01],\n         [ 5.86238913e-02],\n         [-3.03979069e-01],\n         [ 1.89219832e+00],\n         [-1.43716490e+00],\n         [ 6.72819018e-01],\n         [-5.14059067e-02],\n         [ 2.49548221e+00],\n         [-2.28207874e+00],\n         [-9.66868699e-01],\n         [-8.39468688e-02],\n         [ 1.35847136e-01],\n         [-6.70384765e-01],\n         [-6.33225501e-01],\n         [-2.49293730e-01],\n         [ 4.46082067e+00],\n         [ 2.16096476e-01],\n         [-1.95162863e-01],\n         [ 3.26862782e-01],\n         [-2.15740323e-01],\n         [-1.59673929e-01],\n         [-3.12940598e-01],\n         [-1.36195576e+00],\n         [ 3.37437320e+00],\n         [-4.21027094e-01],\n         [ 1.58720970e-01],\n         [-6.58379972e-01],\n         [ 1.02606982e-01],\n         [ 2.98592746e-01],\n         [ 3.37208897e-01],\n         [-1.23507917e+00],\n         [-3.37180376e-01],\n         [-3.16602021e-01],\n         [-4.81210828e-01],\n         [ 2.16639474e-01],\n         [ 1.15717702e-01],\n         [-4.30137396e-01],\n         [ 3.61069471e-01],\n         [-1.51040360e-01]],\n\n        [[-6.21811487e-02],\n         [-1.20326757e-01],\n         [ 2.94771761e-01],\n         [ 4.03838038e-01],\n         [-3.61029553e+00],\n         [-9.67978597e-01],\n         [ 1.20504439e+00],\n         [ 5.13156176e+00],\n         [ 2.27647352e+00],\n         [-1.99771328e+01],\n         [-9.56177294e-01],\n         [ 3.04152042e-01],\n         [ 1.50216341e+00],\n         [ 8.29674053e+00],\n         [-4.85388845e-01],\n         [ 4.81100947e-01],\n         [-4.81387520e+00],\n         [-6.43278003e-01],\n         [-9.51181725e-02],\n         [ 1.83175516e+00],\n         [-2.08897844e-01],\n         [ 1.18609416e+00],\n         [-6.91178918e-01],\n         [-7.23881423e-01],\n         [ 4.08162403e+00],\n         [ 1.16929078e+00],\n         [-5.64420760e-01],\n         [-4.40291643e-01],\n         [-4.01603073e-01],\n         [ 7.85429955e-01],\n         [ 7.25601792e-01],\n         [-5.92909515e-01],\n         [ 1.09198146e-01],\n         [-5.32143235e-01],\n         [ 2.59976387e-01],\n         [-1.19869113e+00],\n         [-1.65190309e-01],\n         [ 1.05463982e-01],\n         [ 3.42672497e-01],\n         [-7.27493614e-02]],\n\n        [[-2.10544281e-02],\n         [-2.53063679e-01],\n         [ 4.05272961e-01],\n         [-4.32604641e-01],\n         [ 1.72883594e+00],\n         [-9.46157277e-01],\n         [ 7.62636438e-02],\n         [-9.74661410e-02],\n         [ 1.38005972e+00],\n         [-1.31038580e+01],\n         [-1.14026940e+00],\n         [-2.34526888e-01],\n         [-9.52745974e-01],\n         [-8.79702389e-01],\n         [-3.28519046e-01],\n         [-2.79181093e-01],\n         [ 6.68790489e-02],\n         [ 4.13601428e-01],\n         [ 6.90129638e-01],\n         [-2.27324986e+00],\n         [-4.03748244e-01],\n         [ 7.22356617e-01],\n         [-3.66817385e-01],\n         [ 2.84113944e-01],\n         [ 3.42928386e+00],\n         [-2.87806451e-01],\n         [ 2.67337374e-02],\n         [-4.66549039e-01],\n         [-1.23830907e-01],\n         [ 1.15391478e-01],\n         [-1.03351760e+00],\n         [-4.37152505e-01],\n         [-3.87308747e-01],\n         [-3.25725645e-01],\n         [-2.72884458e-01],\n         [ 1.58919185e-01],\n         [-1.14311963e-01],\n         [-1.40849680e-01],\n         [-5.73859513e-01],\n         [ 2.35165849e-01]]],\n\n\n       [[[-8.97226855e-02],\n         [-2.19187602e-01],\n         [-1.25919700e-01],\n         [-1.18650477e-02],\n         [-1.28258836e+00],\n         [-9.65555131e-01],\n         [ 1.80524921e+00],\n         [ 2.09846035e-01],\n         [ 2.40800619e+00],\n         [ 7.25429535e-01],\n         [-1.40563142e+00],\n         [ 1.88587323e-01],\n         [ 2.99596518e-01],\n         [-1.66863918e-01],\n         [-1.18569326e+00],\n         [ 7.57820129e-01],\n         [-5.33227205e+00],\n         [-9.05329287e-01],\n         [-5.57732582e-01],\n         [-2.81266183e-01],\n         [-1.61754772e-01],\n         [ 1.41677964e+00],\n         [-5.01509547e-01],\n         [-1.58157110e+00],\n         [ 3.98528481e+00],\n         [-2.12597862e-01],\n         [-4.16188002e-01],\n         [-5.64937532e-01],\n         [-5.50923049e-01],\n         [ 1.23618519e+00],\n         [-8.03230882e-01],\n         [-7.71627665e-01],\n         [-8.49952400e-01],\n         [ 9.11940098e-01],\n         [ 7.32635334e-02],\n         [-4.72568542e-01],\n         [-2.36114830e-01],\n         [-1.18360305e+00],\n         [-3.17312211e-01],\n         [-2.66926795e-01]],\n\n        [[-2.30643821e+00],\n         [ 2.07204723e+00],\n         [ 7.49991536e-01],\n         [ 2.53718162e+00],\n         [-1.31567793e+01],\n         [-5.74225783e-01],\n         [-1.04121723e+01],\n         [-2.73781389e-01],\n         [ 2.14778686e+00],\n         [ 1.25421691e+00],\n         [-7.00268149e-01],\n         [-1.21607199e+01],\n         [ 1.39042974e+00],\n         [-3.27626467e-02],\n         [-1.02987635e+00],\n         [-1.25282078e+01],\n         [ 5.47225285e+00],\n         [ 1.32762699e+01],\n         [-3.60359216e+00],\n         [-5.84996223e+00],\n         [ 1.75602031e+00],\n         [-8.55335808e+00],\n         [-2.55353808e-01],\n         [-9.25169647e-01],\n         [ 4.13728857e+00],\n         [ 1.47462285e+00],\n         [ 3.66004920e+00],\n         [-1.76702023e-01],\n         [ 3.94343400e+00],\n         [ 1.57329202e+00],\n         [-1.95821171e+01],\n         [-1.07929695e+00],\n         [ 9.31726170e+00],\n         [ 3.27552371e-02],\n         [ 1.78057539e+00],\n         [ 5.44879293e+00],\n         [ 3.43280053e+00],\n         [ 7.29084969e+00],\n         [-4.01861429e-01],\n         [ 8.80103409e-02]],\n\n        [[ 3.13022554e-01],\n         [ 5.61347604e-01],\n         [ 6.84696734e-01],\n         [ 6.46889582e-02],\n         [-1.41409314e+00],\n         [-7.58816779e-01],\n         [-1.43947259e-01],\n         [-1.06008751e-02],\n         [ 1.62062836e+00],\n         [ 1.66225743e+00],\n         [-1.31368363e+00],\n         [ 1.27513337e+00],\n         [ 2.63096895e-02],\n         [-1.08912073e-01],\n         [-4.03322369e-01],\n         [ 1.51810873e+00],\n         [ 1.15578808e-01],\n         [-2.92850757e+00],\n         [ 1.69213319e+00],\n         [ 6.01564217e+00],\n         [ 5.30086875e-01],\n         [-2.84004927e+00],\n         [-2.63607204e-01],\n         [-1.90875828e-01],\n         [ 3.64859462e+00],\n         [ 7.08331525e-01],\n         [-6.69543922e-01],\n         [-1.98340669e-01],\n         [-2.78233171e-01],\n         [ 5.99079072e-01],\n         [ 2.05108433e+01],\n         [-6.73890531e-01],\n         [-1.28107917e+00],\n         [-6.67264402e-01],\n         [-7.73474127e-02],\n         [-5.74837804e-01],\n         [ 3.37463260e-01],\n         [-1.08498764e+00],\n         [-1.57549214e+00],\n         [-3.79681301e+00]]],\n\n\n       [[[-9.96727422e-02],\n         [-2.33771876e-01],\n         [-5.04149139e-01],\n         [-3.29142213e-02],\n         [-5.72168410e-01],\n         [-1.18250632e+00],\n         [ 1.02840900e+00],\n         [-7.74965063e-02],\n         [ 2.11266112e+00],\n         [ 1.65140474e+00],\n         [-4.99848872e-01],\n         [-1.30673245e-01],\n         [-6.19794786e-01],\n         [ 6.43739477e-02],\n         [-8.56905937e-01],\n         [-4.72973913e-01],\n         [ 1.31588489e-01],\n         [ 7.08833992e-01],\n         [ 4.07018811e-01],\n         [ 2.03748986e-01],\n         [-5.00826538e-01],\n         [ 1.86952084e-01],\n         [-4.89678919e-01],\n         [-9.84779060e-01],\n         [ 3.34710932e+00],\n         [-1.89840257e-01],\n         [-5.80338426e-02],\n         [-3.89156789e-01],\n         [-1.13230817e-01],\n         [-2.76846230e-01],\n         [ 7.21430480e-01],\n         [-4.58670616e-01],\n         [-2.76059598e-01],\n         [-3.92220348e-01],\n         [-3.82548571e-01],\n         [-1.00176111e-01],\n         [ 4.57847342e-02],\n         [-3.68008576e-02],\n         [ 9.36707035e-02],\n         [ 5.71305215e-01]],\n\n        [[ 4.70221281e-01],\n         [ 1.98437870e-01],\n         [-1.97878212e-01],\n         [-2.18208209e-01],\n         [ 1.71988506e+01],\n         [-9.58420634e-01],\n         [ 1.94250476e+00],\n         [-5.43801021e-03],\n         [ 2.00991416e+00],\n         [ 1.86563835e+01],\n         [-4.82679456e-01],\n         [ 1.38168550e+00],\n         [-5.16205549e-01],\n         [-3.45573962e-01],\n         [-6.30524278e-01],\n         [ 1.79703474e+00],\n         [ 5.96899986e-02],\n         [-2.17835951e+00],\n         [ 1.26701868e+00],\n         [-1.18913686e+00],\n         [ 3.60732287e-01],\n         [ 1.53452957e+00],\n         [-4.69940126e-01],\n         [ 2.32450381e-01],\n         [ 3.46818638e+00],\n         [-4.39714551e-01],\n         [-4.51909631e-01],\n         [-1.11007109e-01],\n         [-2.37433970e-01],\n         [ 9.63376284e-01],\n         [ 5.99689066e-01],\n         [-7.51705110e-01],\n         [-2.41537452e+00],\n         [-1.57992864e+00],\n         [ 2.10373789e-01],\n         [ 1.36119770e-02],\n         [-2.93211102e-01],\n         [-2.04446316e+00],\n         [-4.90135282e-01],\n         [-1.03218281e+00]],\n\n        [[-3.72252077e-01],\n         [-2.43136108e-01],\n         [-2.11602256e-01],\n         [-5.19303441e-01],\n         [-6.59582376e-01],\n         [-1.01294732e+00],\n         [ 1.14933938e-01],\n         [-4.59128730e-02],\n         [ 1.97285616e+00],\n         [ 1.14690342e+01],\n         [-2.92283297e-01],\n         [-6.62056863e-01],\n         [-5.61275303e-01],\n         [ 2.97467504e-02],\n         [-6.68151379e-01],\n         [-9.27407146e-01],\n         [-1.56315714e-01],\n         [ 1.73006618e+00],\n         [ 9.51057613e-01],\n         [ 1.16877306e+00],\n         [-3.06875259e-02],\n         [ 7.55406559e-01],\n         [-8.17205384e-02],\n         [ 5.73794246e-01],\n         [ 2.82344484e+00],\n         [-5.32366514e-01],\n         [ 9.85757858e-02],\n         [-4.91542727e-01],\n         [-2.27057815e-01],\n         [ 1.27048492e+00],\n         [-1.38849735e+00],\n         [-2.90277839e-01],\n         [ 5.97235234e-03],\n         [-1.16786218e+00],\n         [-2.00575605e-01],\n         [-1.68161243e-01],\n         [-5.68900816e-02],\n         [-1.52004004e-01],\n         [-1.23768079e+00],\n         [-7.70377755e-01]]]], dtype=float32)>)"
          ]
        }
      ],
      "source": [
        "import tensorflow as tf\n",
        "import tensorflow_hub as hub\n",
        "\n",
        "# Define the MODULE_HANDLE, IMAGE_SIZE, and FV_SIZE appropriately based on the pre-trained model you choose\n",
        "MODULE_HANDLE = \"https://tfhub.dev/google/imagenet/mobilenet_v2_130_224/classification/4\"  # Example MobileNetV2 model\n",
        "IMAGE_SIZE = (224, 224)  # Example input size for MobileNetV2\n",
        "FV_SIZE = 1280  # Example output feature vector size for MobileNetV2\n",
        "\n",
        "# Create the feature_extractor using the KerasLayer\n",
        "feature_extractor = hub.KerasLayer(\n",
        "    MODULE_HANDLE,\n",
        "    input_shape=IMAGE_SIZE + (3,),  # 3 for RGB images, adjust as per your data\n",
        "    output_shape=[FV_SIZE]\n",
        ")\n",
        "\n"
      ]
    },
    {
      "cell_type": "code",
      "execution_count": null,
      "metadata": {
        "id": "hMYytuAGB34w"
      },
      "outputs": [],
      "source": [
        "do_fine_tuning = True #@param {type:\"boolean\"}\n",
        "if do_fine_tuning:\n",
        "  feature_extractor.trainable = True\n",
        "  # unfreeze some layers of base network for fine-tuning\n",
        "  for layer in base_model.layers[-30:]:\n",
        "    layer.trainable =True\n",
        "\n",
        "else:\n",
        "  feature_extractor.trainable = False\n"
      ]
    },
    {
      "cell_type": "code",
      "execution_count": null,
      "metadata": {
        "colab": {
          "base_uri": "https://localhost:8080/",
          "height": 340
        },
        "id": "A9iG69R72XUT",
        "outputId": "98341da6-89e9-4709-a3e0-5b61250c20fd"
      },
      "outputs": [
        {
          "name": "stdout",
          "output_type": "stream",
          "text": [
            "Building model with https://tfhub.dev/google/tf2-preview/inception_v3/feature_vector/2\n",
            "Model: \"sequential\"\n",
            "_________________________________________________________________\n",
            "Layer (type)                 Output Shape              Param #   \n",
            "=================================================================\n",
            "keras_layer (KerasLayer)     (None, 2048)              21802784  \n",
            "_________________________________________________________________\n",
            "flatten (Flatten)            (None, 2048)              0         \n",
            "_________________________________________________________________\n",
            "dense (Dense)                (None, 512)               1049088   \n",
            "_________________________________________________________________\n",
            "dropout (Dropout)            (None, 512)               0         \n",
            "_________________________________________________________________\n",
            "dense_1 (Dense)              (None, 3)                 1539      \n",
            "=================================================================\n",
            "Total params: 22,853,411\n",
            "Trainable params: 1,050,627\n",
            "Non-trainable params: 21,802,784\n",
            "_________________________________________________________________\n"
          ]
        }
      ],
      "source": [
        "print(\"Building model with\", MODULE_HANDLE)\n",
        "model = tf.keras.Sequential([\n",
        "    feature_extractor,\n",
        "    tf.keras.layers.Flatten(),\n",
        "    tf.keras.layers.Dense(512, activation='relu'),\n",
        "    tf.keras.layers.Dropout(rate=0.2),\n",
        "    tf.keras.layers.Dense(train_generator.num_classes, activation='softmax',\n",
        "                           kernel_regularizer=tf.keras.regularizers.l2(0.0001))\n",
        "])\n",
        "#model.build((None,)+IMAGE_SIZE+(3,))\n",
        "\n",
        "model.summary()"
      ]
    },
    {
      "cell_type": "markdown",
      "metadata": {
        "id": "PGGphhh8Vu50"
      },
      "source": [
        "### Specify Loss Function and Optimizer"
      ]
    },
    {
      "cell_type": "code",
      "execution_count": null,
      "metadata": {
        "id": "cq5rzR-vV7tn"
      },
      "outputs": [],
      "source": [
        "#Compile model specifying the optimizer learning rate\n",
        "\n",
        "LEARNING_RATE = 0.001 #@param {type:\"number\"}\n",
        "\n",
        "model.compile(\n",
        "   optimizer=tf.keras.optimizers.Adam(lr=LEARNING_RATE),\n",
        "   loss='categorical_crossentropy',\n",
        "   metrics=['accuracy'])\n",
        "\n"
      ]
    },
    {
      "cell_type": "markdown",
      "metadata": {
        "id": "ia50ckJ6-rVr"
      },
      "source": [
        "### Train Model\n"
      ]
    },
    {
      "cell_type": "code",
      "execution_count": null,
      "metadata": {
        "colab": {
          "base_uri": "https://localhost:8080/"
        },
        "id": "Cf1FVwyCRI8o",
        "outputId": "8c01d91f-cab1-443f-d99e-64fc28e6762a"
      },
      "outputs": [
        {
          "name": "stderr",
          "output_type": "stream",
          "text": [
            "<ipython-input-21-49a96cf4708e>:3: UserWarning: `Model.fit_generator` is deprecated and will be removed in a future version. Please use `Model.fit`, which supports generators.\n",
            "  history = model.fit_generator(\n"
          ]
        },
        {
          "name": "stdout",
          "output_type": "stream",
          "text": [
            "Epoch 1/30\n",
            "138/138 [==============================] - 194s 1s/step - loss: 0.2940 - accuracy: 0.8890 - val_loss: 0.2449 - val_accuracy: 0.9001\n",
            "Epoch 2/30\n",
            "138/138 [==============================] - 243s 2s/step - loss: 0.2786 - accuracy: 0.8942 - val_loss: 0.2126 - val_accuracy: 0.9149\n",
            "Epoch 3/30\n",
            "138/138 [==============================] - 232s 2s/step - loss: 0.2301 - accuracy: 0.9083 - val_loss: 0.2185 - val_accuracy: 0.9155\n",
            "Epoch 4/30\n",
            "138/138 [==============================] - 176s 1s/step - loss: 0.2876 - accuracy: 0.8947 - val_loss: 0.2101 - val_accuracy: 0.9203\n",
            "Epoch 5/30\n",
            "138/138 [==============================] - 175s 1s/step - loss: 0.2492 - accuracy: 0.9037 - val_loss: 0.2319 - val_accuracy: 0.9004\n",
            "Epoch 6/30\n",
            "138/138 [==============================] - 233s 2s/step - loss: 0.2067 - accuracy: 0.9151 - val_loss: 0.2910 - val_accuracy: 0.8829\n",
            "Epoch 7/30\n",
            "138/138 [==============================] - 179s 1s/step - loss: 0.2585 - accuracy: 0.9006 - val_loss: 0.4487 - val_accuracy: 0.8367\n",
            "Epoch 8/30\n",
            "138/138 [==============================] - 231s 2s/step - loss: 0.2615 - accuracy: 0.8976 - val_loss: 0.2081 - val_accuracy: 0.9226\n",
            "Epoch 9/30\n",
            "138/138 [==============================] - 181s 1s/step - loss: 0.2209 - accuracy: 0.9140 - val_loss: 0.1931 - val_accuracy: 0.9271\n",
            "Epoch 10/30\n",
            "138/138 [==============================] - 229s 2s/step - loss: 0.2131 - accuracy: 0.9151 - val_loss: 0.2451 - val_accuracy: 0.9126\n",
            "Epoch 11/30\n",
            "138/138 [==============================] - 176s 1s/step - loss: 0.2374 - accuracy: 0.9060 - val_loss: 0.1814 - val_accuracy: 0.9284\n",
            "Epoch 12/30\n",
            "138/138 [==============================] - 233s 2s/step - loss: 0.2451 - accuracy: 0.9090 - val_loss: 0.1924 - val_accuracy: 0.9167\n",
            "Epoch 13/30\n",
            "138/138 [==============================] - 177s 1s/step - loss: 0.1984 - accuracy: 0.9230 - val_loss: 0.1682 - val_accuracy: 0.9334\n",
            "Epoch 14/30\n",
            "138/138 [==============================] - 231s 2s/step - loss: 0.1964 - accuracy: 0.9221 - val_loss: 0.1737 - val_accuracy: 0.9309\n",
            "Epoch 15/30\n",
            "138/138 [==============================] - 232s 2s/step - loss: 0.2015 - accuracy: 0.9203 - val_loss: 0.1892 - val_accuracy: 0.9244\n",
            "Epoch 16/30\n",
            "138/138 [==============================] - 178s 1s/step - loss: 0.2197 - accuracy: 0.9190 - val_loss: 0.1633 - val_accuracy: 0.9334\n",
            "Epoch 17/30\n",
            "138/138 [==============================] - 178s 1s/step - loss: 0.2472 - accuracy: 0.9047 - val_loss: 0.2088 - val_accuracy: 0.9203\n",
            "Epoch 18/30\n",
            "138/138 [==============================] - 228s 2s/step - loss: 0.1894 - accuracy: 0.9253 - val_loss: 0.1755 - val_accuracy: 0.9293\n",
            "Epoch 19/30\n",
            "138/138 [==============================] - 175s 1s/step - loss: 0.2235 - accuracy: 0.9133 - val_loss: 0.6094 - val_accuracy: 0.7729\n",
            "Epoch 20/30\n",
            "138/138 [==============================] - 229s 2s/step - loss: 0.2231 - accuracy: 0.9126 - val_loss: 0.1637 - val_accuracy: 0.9350\n",
            "Epoch 21/30\n",
            "138/138 [==============================] - 233s 2s/step - loss: 0.1678 - accuracy: 0.9321 - val_loss: 0.1515 - val_accuracy: 0.9386\n",
            "Epoch 22/30\n",
            "138/138 [==============================] - 232s 2s/step - loss: 0.2359 - accuracy: 0.9124 - val_loss: 0.1684 - val_accuracy: 0.9364\n",
            "Epoch 23/30\n",
            "138/138 [==============================] - 232s 2s/step - loss: 0.1794 - accuracy: 0.9303 - val_loss: 0.1805 - val_accuracy: 0.9250\n",
            "Epoch 24/30\n",
            "138/138 [==============================] - 178s 1s/step - loss: 0.1796 - accuracy: 0.9269 - val_loss: 0.1505 - val_accuracy: 0.9389\n",
            "Epoch 25/30\n",
            "138/138 [==============================] - 232s 2s/step - loss: 0.1712 - accuracy: 0.9292 - val_loss: 0.1580 - val_accuracy: 0.9407\n",
            "Epoch 26/30\n",
            "138/138 [==============================] - 230s 2s/step - loss: 0.1920 - accuracy: 0.9246 - val_loss: 0.1581 - val_accuracy: 0.9400\n",
            "Epoch 27/30\n",
            "138/138 [==============================] - 233s 2s/step - loss: 0.1614 - accuracy: 0.9323 - val_loss: 0.1483 - val_accuracy: 0.9434\n",
            "Epoch 28/30\n",
            "138/138 [==============================] - 230s 2s/step - loss: 0.1847 - accuracy: 0.9274 - val_loss: 0.1647 - val_accuracy: 0.9393\n",
            "Epoch 29/30\n",
            "138/138 [==============================] - 231s 2s/step - loss: 0.1796 - accuracy: 0.9289 - val_loss: 0.1956 - val_accuracy: 0.9264\n",
            "Epoch 30/30\n",
            "138/138 [==============================] - 231s 2s/step - loss: 0.2305 - accuracy: 0.9160 - val_loss: 0.1690 - val_accuracy: 0.9323\n"
          ]
        }
      ],
      "source": [
        "\n",
        "EPOCHS=30 #@param {type:\"integer\"}\n",
        "\n",
        "history = model.fit_generator(\n",
        "        train_generator,\n",
        "        steps_per_epoch=train_generator.samples//train_generator.batch_size,\n",
        "        epochs=EPOCHS,\n",
        "        validation_data=validation_generator,\n",
        "        validation_steps=validation_generator.samples//validation_generator.batch_size)"
      ]
    },
    {
      "cell_type": "markdown",
      "metadata": {
        "id": "pLa4bHwbPNWD"
      },
      "source": [
        "###Check Performance\n"
      ]
    },
    {
      "cell_type": "code",
      "execution_count": null,
      "metadata": {
        "colab": {
          "base_uri": "https://localhost:8080/",
          "height": 235
        },
        "id": "QUPxHwHC3Gy_",
        "outputId": "96027a47-63ee-40dc-af7f-ce685a683bb9"
      },
      "outputs": [
        {
          "ename": "NameError",
          "evalue": "ignored",
          "output_type": "error",
          "traceback": [
            "\u001b[0;31m---------------------------------------------------------------------------\u001b[0m",
            "\u001b[0;31mNameError\u001b[0m                                 Traceback (most recent call last)",
            "\u001b[0;32m<ipython-input-1-793bbdfec8d8>\u001b[0m in \u001b[0;36m<cell line: 4>\u001b[0;34m()\u001b[0m\n\u001b[1;32m      2\u001b[0m \u001b[0;32mimport\u001b[0m \u001b[0mnumpy\u001b[0m \u001b[0;32mas\u001b[0m \u001b[0mnp\u001b[0m\u001b[0;34m\u001b[0m\u001b[0;34m\u001b[0m\u001b[0m\n\u001b[1;32m      3\u001b[0m \u001b[0;34m\u001b[0m\u001b[0m\n\u001b[0;32m----> 4\u001b[0;31m \u001b[0macc\u001b[0m \u001b[0;34m=\u001b[0m \u001b[0mhistory\u001b[0m\u001b[0;34m.\u001b[0m\u001b[0mhistory\u001b[0m\u001b[0;34m[\u001b[0m\u001b[0;34m'accuracy'\u001b[0m\u001b[0;34m]\u001b[0m\u001b[0;34m\u001b[0m\u001b[0;34m\u001b[0m\u001b[0m\n\u001b[0m\u001b[1;32m      5\u001b[0m \u001b[0mval_acc\u001b[0m \u001b[0;34m=\u001b[0m \u001b[0mhistory\u001b[0m\u001b[0;34m.\u001b[0m\u001b[0mhistory\u001b[0m\u001b[0;34m[\u001b[0m\u001b[0;34m'val_accuracy'\u001b[0m\u001b[0;34m]\u001b[0m\u001b[0;34m\u001b[0m\u001b[0;34m\u001b[0m\u001b[0m\n\u001b[1;32m      6\u001b[0m \u001b[0;34m\u001b[0m\u001b[0m\n",
            "\u001b[0;31mNameError\u001b[0m: name 'history' is not defined"
          ]
        }
      ],
      "source": [
        "import matplotlib.pylab as plt\n",
        "import numpy as np\n",
        "\n",
        "acc = history.history['accuracy']\n",
        "val_acc = history.history['val_accuracy']\n",
        "\n",
        "loss = history.history['loss']\n",
        "val_loss = history.history['val_loss']\n",
        "\n",
        "epochs_range = range(EPOCHS)\n",
        "\n",
        "plt.figure(figsize=(8, 8))\n",
        "plt.subplot(1, 2, 1)\n",
        "plt.plot(epochs_range, acc, label='Training Accuracy')\n",
        "plt.plot(epochs_range, val_acc, label='Validation Accuracy')\n",
        "plt.legend(loc='lower right')\n",
        "plt.title('Training and Validation Accuracy')\n",
        "plt.ylabel(\"Accuracy (training and validation)\")\n",
        "plt.xlabel(\"Training Steps\")\n",
        "\n",
        "plt.subplot(1, 2, 2)\n",
        "plt.plot(epochs_range, loss, label='Training Loss')\n",
        "plt.plot(epochs_range, val_loss, label='Validation Loss')\n",
        "plt.legend(loc='upper right')\n",
        "plt.title('Training and Validation Loss')\n",
        "plt.ylabel(\"Loss (training and validation)\")\n",
        "plt.xlabel(\"Training Steps\")\n",
        "plt.show()"
      ]
    },
    {
      "cell_type": "markdown",
      "metadata": {
        "id": "aNzdageWS6k5"
      },
      "source": [
        "### Random test\n"
      ]
    },
    {
      "cell_type": "code",
      "execution_count": null,
      "metadata": {
        "id": "l1jIf7rKTBLx"
      },
      "outputs": [],
      "source": [
        "# Import OpenCV\n",
        "import cv2\n",
        "\n",
        "# Utility\n",
        "import itertools\n",
        "import random\n",
        "from collections import Counter\n",
        "from glob import iglob\n",
        "\n",
        "\n",
        "def load_image(filename):\n",
        "    img = cv2.imread(os.path.join(data_dir, validation_dir, filename))\n",
        "    img = cv2.resize(img, (IMAGE_SIZE[0], IMAGE_SIZE[1]) )\n",
        "    img = img /255\n",
        "\n",
        "    return img\n",
        "\n",
        "\n",
        "def predict(image):\n",
        "    probabilities = model.predict(np.asarray([img]))[0]\n",
        "    class_idx = np.argmax(probabilities)\n",
        "\n",
        "    return {classes[class_idx]: probabilities[class_idx]}"
      ]
    },
    {
      "cell_type": "code",
      "execution_count": null,
      "metadata": {
        "colab": {
          "base_uri": "https://localhost:8080/",
          "height": 235
        },
        "id": "tKZduGZoTFSg",
        "outputId": "04f5618d-39ee-467a-edd6-d9fb746c4d94"
      },
      "outputs": [
        {
          "ename": "NameError",
          "evalue": "ignored",
          "output_type": "error",
          "traceback": [
            "\u001b[0;31m---------------------------------------------------------------------------\u001b[0m",
            "\u001b[0;31mNameError\u001b[0m                                 Traceback (most recent call last)",
            "\u001b[0;32m<ipython-input-4-00e01914ecae>\u001b[0m in \u001b[0;36m<cell line: 1>\u001b[0;34m()\u001b[0m\n\u001b[0;32m----> 1\u001b[0;31m \u001b[0;32mfor\u001b[0m \u001b[0midx\u001b[0m\u001b[0;34m,\u001b[0m \u001b[0mfilename\u001b[0m \u001b[0;32min\u001b[0m \u001b[0menumerate\u001b[0m\u001b[0;34m(\u001b[0m\u001b[0mrandom\u001b[0m\u001b[0;34m.\u001b[0m\u001b[0msample\u001b[0m\u001b[0;34m(\u001b[0m\u001b[0mvalidation_generator\u001b[0m\u001b[0;34m.\u001b[0m\u001b[0mfilenames\u001b[0m\u001b[0;34m,\u001b[0m \u001b[0;36m5\u001b[0m\u001b[0;34m)\u001b[0m\u001b[0;34m)\u001b[0m\u001b[0;34m:\u001b[0m\u001b[0;34m\u001b[0m\u001b[0;34m\u001b[0m\u001b[0m\n\u001b[0m\u001b[1;32m      2\u001b[0m     \u001b[0mprint\u001b[0m\u001b[0;34m(\u001b[0m\u001b[0;34m\"SOURCE: class: %s, file: %s\"\u001b[0m \u001b[0;34m%\u001b[0m \u001b[0;34m(\u001b[0m\u001b[0mos\u001b[0m\u001b[0;34m.\u001b[0m\u001b[0mpath\u001b[0m\u001b[0;34m.\u001b[0m\u001b[0msplit\u001b[0m\u001b[0;34m(\u001b[0m\u001b[0mfilename\u001b[0m\u001b[0;34m)\u001b[0m\u001b[0;34m[\u001b[0m\u001b[0;36m0\u001b[0m\u001b[0;34m]\u001b[0m\u001b[0;34m,\u001b[0m \u001b[0mfilename\u001b[0m\u001b[0;34m)\u001b[0m\u001b[0;34m)\u001b[0m\u001b[0;34m\u001b[0m\u001b[0;34m\u001b[0m\u001b[0m\n\u001b[1;32m      3\u001b[0m \u001b[0;34m\u001b[0m\u001b[0m\n\u001b[1;32m      4\u001b[0m     \u001b[0mimg\u001b[0m \u001b[0;34m=\u001b[0m \u001b[0mload_image\u001b[0m\u001b[0;34m(\u001b[0m\u001b[0mfilename\u001b[0m\u001b[0;34m)\u001b[0m\u001b[0;34m\u001b[0m\u001b[0;34m\u001b[0m\u001b[0m\n\u001b[1;32m      5\u001b[0m     \u001b[0mprediction\u001b[0m \u001b[0;34m=\u001b[0m \u001b[0mpredict\u001b[0m\u001b[0;34m(\u001b[0m\u001b[0mimg\u001b[0m\u001b[0;34m)\u001b[0m\u001b[0;34m\u001b[0m\u001b[0;34m\u001b[0m\u001b[0m\n",
            "\u001b[0;31mNameError\u001b[0m: name 'validation_generator' is not defined"
          ]
        }
      ],
      "source": [
        "for idx, filename in enumerate(random.sample(validation_generator.filenames, 5)):\n",
        "    print(\"SOURCE: class: %s, file: %s\" % (os.path.split(filename)[0], filename))\n",
        "\n",
        "    img = load_image(filename)\n",
        "    prediction = predict(img)\n",
        "    print(\"PREDICTED: class: %s, confidence: %f\" % (list(prediction.keys())[0], list(prediction.values())[0]))\n",
        "    plt.imshow(img)\n",
        "    plt.figure(idx)\n",
        "    plt.show()"
      ]
    },
    {
      "cell_type": "markdown",
      "metadata": {
        "id": "IPepNCqPtfq-"
      },
      "source": [
        "## CONCLUSION\n",
        "We will try to server data to messenger and android"
      ]
    }
  ],
  "metadata": {
    "accelerator": "GPU",
    "colab": {
      "provenance": [],
      "include_colab_link": true
    },
    "kernelspec": {
      "display_name": "Python 3",
      "name": "python3"
    }
  },
  "nbformat": 4,
  "nbformat_minor": 0
}